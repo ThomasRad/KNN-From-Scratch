{
 "cells": [
  {
   "cell_type": "markdown",
   "metadata": {},
   "source": [
    "# Following Along A YouTube Tutorial"
   ]
  },
  {
   "cell_type": "code",
   "execution_count": 5,
   "metadata": {},
   "outputs": [],
   "source": [
    "# Import \n",
    "\n",
    "import numpy as np\n",
    "from sklearn import datasets\n",
    "from sklearn.model_selection import train_test_split\n",
    "from collections import Counter"
   ]
  },
  {
   "cell_type": "code",
   "execution_count": 4,
   "metadata": {},
   "outputs": [],
   "source": [
    "# Set a dataset that we will use for our KNN model. \n",
    "\n",
    "iris = datasets.load_iris()\n",
    "x,y = iris.data, iris.target\n",
    "\n",
    "# Train test split.\n",
    "\n",
    "x_train, x_test, y_train, y_test = train_test_split(x,y, test_size = 0.2, random_state = 1)"
   ]
  },
  {
   "cell_type": "code",
   "execution_count": 9,
   "metadata": {},
   "outputs": [],
   "source": [
    "# Define the distance \n",
    "def euclidean_distance(x1,x2):\n",
    "    return np.sqrt((np.sum(x1-x2)**2))\n",
    "\n",
    "# Define KNN Class\n",
    "\n",
    "class KNN: \n",
    "    \n",
    "    def __init__(self, k = 3):\n",
    "        self.k = k\n",
    "    \n",
    "    # Define Fitting the model. \n",
    "    \n",
    "    def fit(self, x,y):\n",
    "        self.x_train = x\n",
    "        self.y_train = y\n",
    "    \n",
    "    # Define prediction of the model. \n",
    "    \n",
    "    def predict(self,X):\n",
    "        \n",
    "        # Run the helper function for all the values inside X\n",
    "        \n",
    "        predicted_labels = [self._predict(x) for x in X]\n",
    "        return np.array(predicted_labels)\n",
    "        \n",
    "        # Create a Helper function that will be used in the above function. \n",
    "        \n",
    "    def _predict(self, x):\n",
    "        \n",
    "        # Compute the distances. \n",
    "        \n",
    "        distances = [euclidean_distance(x, x_train) for x_train in self.x_train]\n",
    "        \n",
    "        # Get k nearest samples, labels\n",
    "        \n",
    "        k_indicies = np.argsort(distances)[:self.k]\n",
    "        k_nearest_labels = [self.y_train[i] for i in k_indicies]\n",
    "        \n",
    "        # Get the majority vote \n",
    "        \n",
    "        most_common = Counter(k_nearest_labels).most_common(1)\n",
    "        return most_common[0][0]\n",
    "        "
   ]
  },
  {
   "cell_type": "code",
   "execution_count": 11,
   "metadata": {},
   "outputs": [
    {
     "name": "stdout",
     "output_type": "stream",
     "text": [
      "0.8666666666666667\n"
     ]
    }
   ],
   "source": [
    "# Give the KNN a test run. \n",
    "\n",
    "clf = KNN(k = 3)\n",
    "clf.fit(x_train,y_train)\n",
    "pred = clf.predict(x_test)\n",
    "\n",
    "\n",
    "# Checking the acc\n",
    "\n",
    "acc = np.sum(pred == y_test) / len(y_test)\n",
    "print(acc)"
   ]
  }
 ],
 "metadata": {
  "kernelspec": {
   "display_name": "Python 3",
   "language": "python",
   "name": "python3"
  },
  "language_info": {
   "codemirror_mode": {
    "name": "ipython",
    "version": 3
   },
   "file_extension": ".py",
   "mimetype": "text/x-python",
   "name": "python",
   "nbconvert_exporter": "python",
   "pygments_lexer": "ipython3",
   "version": "3.7.6"
  }
 },
 "nbformat": 4,
 "nbformat_minor": 4
}
